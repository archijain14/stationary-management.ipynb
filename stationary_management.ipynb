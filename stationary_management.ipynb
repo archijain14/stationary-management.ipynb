{
  "nbformat": 4,
  "nbformat_minor": 0,
  "metadata": {
    "colab": {
      "name": "stationary management.ipynb",
      "provenance": [],
      "collapsed_sections": []
    },
    "kernelspec": {
      "name": "python3",
      "display_name": "Python 3"
    },
    "language_info": {
      "name": "python"
    }
  },
  "cells": [
    {
      "cell_type": "code",
      "metadata": {
        "id": "t6XbyExNoycI"
      },
      "source": [
        "items = {1122331 : { \"product name\" : \"Pencil\"          , \"Price\" : 12  , \"Quantity\" : 40  , \"Discount\" : \"1%\"  , \"Company name\" : \"Doms\"          ,  \"Colour\" : \"Black\"          },\n",
        "         1122332 : { \"product name\" : \"Pen\"             , \"Price\" : 20  , \"Quantity\" : 100 , \"Discount\" : \"3%\"  , \"Company name\" : \"Doms\"          ,  \"Colour\" : \"All colours\"    },\n",
        "         1122333 : { \"product name\" : \"Eraser\"          , \"Price\" : 10  , \"Quantity\" : 50  , \"Discount\" : \"2%\"  , \"Company name\" : \"Doms\"          ,  \"Colour\" : \"Multi-colour\"   },\n",
        "         1122334 : { \"product name\" : \"Sharpener\"       , \"Price\" : 8   , \"Quantity\" : 50  , \"Discount\" : \"2%\"  , \"Company name\" : \"Nataraj\"       ,  \"Colour\" : \"All colours\"    },\n",
        "         1122335 : { \"product name\" : \"Crayons\"         , \"Price\" : 50  , \"Quantity\" : 30  , \"Discount\" : \"5%\"  , \"Company name\" : \"Faber castell\" ,  \"Colour\" : \"Multi-colour\"   },\n",
        "         1122336 : { \"product name\" : \"Scale\"           , \"Price\" : 10  , \"Quantity\" : 50  , \"Discount\" : \"2%\"  , \"Company name\" : \"Nataraj\"       ,  \"Colour\" : \"White\"          },\n",
        "         1122337 : { \"product name\" : \"Compass\"         , \"Price\" : 10  , \"Quantity\" : 50  , \"Discount\" : \"2%\"  , \"Company name\" : \"Doms\"          ,  \"Colour\" : \"White\"          },\n",
        "         1122338 : { \"product name\" : \"Sketch pens\"     , \"Price\" : 10  , \"Quantity\" : 50  , \"Discount\" : \"2%\"  , \"Company name\" : \"Apsara\"        ,  \"Colour\" : \"Multi-colour\"   },\n",
        "         1122339 : { \"product name\" : \"Highlighter\"     , \"Price\" : 20  , \"Quantity\" : 50  , \"Discount\" : \"6%\"  , \"Company name\" : \"Faber castell\" ,  \"Colour\" : \"Multi-colour\"   },\n",
        "         1122340 : { \"product name\" : \"Staplers\"        , \"Price\" : 40  , \"Quantity\" : 20  , \"Discount\" : \"10%\" , \"Company name\" : \"Camlin\"        ,  \"Colour\" : \"All-colours\"    },\n",
        "         1122341 : { \"product name\" : \"Pencil colours\"  , \"Price\" : 50  , \"Quantity\" : 35  , \"Discount\" : \"10%\" , \"Company name\" : \"Doms\"          ,  \"Colour\" : \"Multi-colour\"   },\n",
        "         1122342 : { \"product name\" : \"Poster colours\"  , \"Price\" : 80  , \"Quantity\" : 45  , \"Discount\" : \"15%\" , \"Company name\" : \"Faber castell\" ,  \"Colour\" : \"Multi-colour\"   },\n",
        "         1122343 : { \"product name\" : \"Pencil box\"      , \"Price\" : 10  , \"Quantity\" : 50  , \"Discount\" : \"2%\"  , \"Company name\" : \"Doms\"          ,  \"Colour\" : \"Multi-colour\"   },\n",
        "         1122344 : { \"product name\" : \"Drawing books\"   , \"Price\" : 200 , \"Quantity\" : 15  , \"Discount\" : \"15%\" , \"Company name\" : \"Classmate\"     ,  \"Colour\" : \"White\"          },\n",
        "         1122345 : { \"product name\" : \"Notebooks\"       , \"Price\" : 60  , \"Quantity\" : 50  , \"Discount\" : \"10%\" , \"Company name\" : \"Classmate\"     ,  \"Colour\" : \"White\"          },\n",
        "         1122346 : { \"product name\" : \"Acrylic colours\" , \"Price\" : 120 , \"Quantity\" : 40  , \"Discount\" : \"15%\" , \"Company name\" : \"Faber castell\" ,  \"Colour\" : \"Multi-colour\"   },\n",
        "         1122347 : { \"product name\" : \"A4 sheets\"       , \"Price\" : 50  , \"Quantity\" : 100 , \"Discount\" : \"5%\"  , \"Company name\" : \"Doms\"          ,  \"Colour\" : \"White\"          },\n",
        "         1122348 : { \"product name\" : \"Chart papers\"    , \"Price\" : 30  , \"Quantity\" : 100 , \"Discount\" : \"5%\"  , \"Company name\" : \"Classmate\"     ,  \"Colour\" : \"Multi-colour\"   },\n",
        "         1122349 : { \"product name\" : \"Handmade sheets\" , \"Price\" : 40  , \"Quantity\" : 100 , \"Discount\" : \"10%\" , \"Company name\" : \"Classmate\"     ,  \"Colour\" : \"Multi-colour\"   },\n",
        "         1122350 : { \"product name\" : \"Rubber sheets\"   , \"Price\" : 40  , \"Quantity\" : 80  , \"Discount\" : \"10%\" , \"Company name\" : \"Doms\"          ,  \"Colour\" : \"Multi-colour\"   },\n",
        "         1122351 : { \"product name\" : \"Markers\"         , \"Price\" : 15  , \"Quantity\" : 50  , \"Discount\" : \"5%\"  , \"Company name\" : \"Apsara\"        ,  \"Colour\" : \"All-colours\"    },\n",
        "         1122352 : { \"product name\" : \"White board\"     , \"Price\" : 200 , \"Quantity\" : 50  , \"Discount\" : \"15%\" , \"Company name\" : \"Nataraj\"       ,  \"Colour\" : \"White\"          },\n",
        "         1122353 : { \"product name\" : \"Whitener\"        , \"Price\" : 30  , \"Quantity\" : 50  , \"Discount\" : \"5%\"  , \"Company name\" : \"Camlin\"        ,  \"Colour\" : \"White\"          },\n",
        "         1122354 : { \"product name\" : \"Fevicol\"         , \"Price\" : 40  , \"Quantity\" : 30  , \"Discount\" : \"4%\"  , \"Company name\" : \"Doms\"          ,  \"Colour\" : \"White\"          },\n",
        "         1122355 : { \"product name\" : \"Scissors\"        , \"Price\" : 40  , \"Quantity\" : 20  , \"Discount\" : \"5%\"  , \"Company name\" : \"Camlin\"        ,  \"Colour\" : \"Multi-colour\"   },\n",
        "         1122356 : { \"product name\" : \"Paint brushes\"   , \"Price\" : 30  , \"Quantity\" : 40  , \"Discount\" : \"8%\"  , \"Company name\" : \"Camlin\"        ,  \"Colour\" : \"Multi-colour\"   },\n",
        "         1122357 : { \"product name\" : \"Writing pad \"    , \"Price\" : 150 , \"Quantity\" : 40  , \"Discount\" : \"10%\" , \"Company name\" : \"Doms\"          ,  \"Colour\" : \"Multi-colour\"   },\n",
        "         1122358 : { \"product name\" : \"Geometry box\"    , \"Price\" : 130 , \"Quantity\" : 40  , \"Discount\" : \"15%\" , \"Company name\" : \"Camlin\"        ,  \"Colour\" : \"All-colours\"    },\n",
        "         1122359 : { \"product name\" : \"Cello tape\"      , \"Price\" : 20  , \"Quantity\" : 50  , \"Discount\" : \"3%\"  , \"Company name\" : \"Apsara\"        ,  \"Colour\" : \"Transparent\"    },\n",
        "         1122360 : { \"product name\" : \"Brown coverroll\" , \"Price\" : 50  , \"Quantity\" : 30  , \"Discount\" : \"10%\" , \"Company name\" : \"Faber castell\" ,  \"Colour\" : \"Brown\"          }}\n",
        "         "
      ],
      "execution_count": 8,
      "outputs": []
    },
    {
      "cell_type": "code",
      "metadata": {
        "id": "EHArI_BSblnC"
      },
      "source": [
        "import json"
      ],
      "execution_count": 9,
      "outputs": []
    },
    {
      "cell_type": "code",
      "metadata": {
        "id": "YorqxxWmdS5q"
      },
      "source": [
        "js = json.dumps(items)"
      ],
      "execution_count": 10,
      "outputs": []
    },
    {
      "cell_type": "code",
      "metadata": {
        "id": "eRMvlxDIdX0A"
      },
      "source": [
        "fd = open(\"items.json\",'w')\n",
        "\n",
        "fd.write(js)\n",
        "\n",
        "fd.close()"
      ],
      "execution_count": 13,
      "outputs": []
    },
    {
      "cell_type": "code",
      "metadata": {
        "id": "0ngCzOMJfWGN"
      },
      "source": [
        "fd = open(\"items.json\",'r')\n",
        "\n",
        "r = fd.read()\n",
        "\n",
        "fd.close()"
      ],
      "execution_count": 14,
      "outputs": []
    },
    {
      "cell_type": "code",
      "metadata": {
        "id": "xlbIDpdmgAH1"
      },
      "source": [
        "items = json.loads(r)"
      ],
      "execution_count": 16,
      "outputs": []
    },
    {
      "cell_type": "code",
      "metadata": {
        "colab": {
          "base_uri": "https://localhost:8080/"
        },
        "id": "MXPnWRUN1aSw",
        "outputId": "d5f8a93d-957e-4fef-fe01-5f99d1692288"
      },
      "source": [
        "items"
      ],
      "execution_count": null,
      "outputs": [
        {
          "output_type": "execute_result",
          "data": {
            "text/plain": [
              "{'1122331': {'Colour': 'Black',\n",
              "  'Company name': 'Doms',\n",
              "  'Discount': '1%',\n",
              "  'Price': 12,\n",
              "  'Quantity': 40,\n",
              "  'product name': 'Pencil'},\n",
              " '1122332': {'Colour': 'All colours',\n",
              "  'Company name': 'Doms',\n",
              "  'Discount': '3%',\n",
              "  'Price': 20,\n",
              "  'Quantity': 100,\n",
              "  'product name': 'Pen'},\n",
              " '1122333': {'Colour': 'Multi-colour',\n",
              "  'Company name': 'Doms',\n",
              "  'Discount': '2%',\n",
              "  'Price': 10,\n",
              "  'Quantity': 50,\n",
              "  'product name': 'Eraser'},\n",
              " '1122334': {'Colour': 'All colours',\n",
              "  'Company name': 'Nataraj',\n",
              "  'Discount': '2%',\n",
              "  'Price': 8,\n",
              "  'Quantity': 50,\n",
              "  'product name': 'Sharpener'},\n",
              " '1122335': {'Colour': 'Multi-colour',\n",
              "  'Company name': 'Faber castell',\n",
              "  'Discount': '5%',\n",
              "  'Price': 50,\n",
              "  'Quantity': 30,\n",
              "  'product name': 'Crayons'},\n",
              " '1122336': {'Colour': 'White',\n",
              "  'Company name': 'Nataraj',\n",
              "  'Discount': '2%',\n",
              "  'Price': 10,\n",
              "  'Quantity': 50,\n",
              "  'product name': 'Scale'},\n",
              " '1122337': {'Colour': 'White',\n",
              "  'Company name': 'Doms',\n",
              "  'Discount': '2%',\n",
              "  'Price': 10,\n",
              "  'Quantity': 50,\n",
              "  'product name': 'Compass'},\n",
              " '1122338': {'Colour': 'Multi-colour',\n",
              "  'Company name': 'Apsara',\n",
              "  'Discount': '2%',\n",
              "  'Price': 10,\n",
              "  'Quantity': 50,\n",
              "  'product name': 'Sketch pens'},\n",
              " '1122339': {'Colour': 'Multi-colour',\n",
              "  'Company name': 'Faber castell',\n",
              "  'Discount': '6%',\n",
              "  'Price': 20,\n",
              "  'Quantity': 50,\n",
              "  'product name': 'Highlighter'},\n",
              " '1122340': {'Colour': 'All-colours',\n",
              "  'Company name': 'Camlin',\n",
              "  'Discount': '10%',\n",
              "  'Price': 40,\n",
              "  'Quantity': 20,\n",
              "  'product name': 'Staplers'},\n",
              " '1122341': {'Colour': 'Multi-colour',\n",
              "  'Company name': 'Doms',\n",
              "  'Discount': '10%',\n",
              "  'Price': 50,\n",
              "  'Quantity': 35,\n",
              "  'product name': 'Pencil colours'},\n",
              " '1122342': {'Colour': 'Multi-colour',\n",
              "  'Company name': 'Faber castell',\n",
              "  'Discount': '15%',\n",
              "  'Price': 80,\n",
              "  'Quantity': 45,\n",
              "  'product name': 'Poster colours'},\n",
              " '1122343': {'Colour': 'Multi-colour',\n",
              "  'Company name': 'Doms',\n",
              "  'Discount': '2%',\n",
              "  'Price': 10,\n",
              "  'Quantity': 50,\n",
              "  'product name': 'Pencil box'},\n",
              " '1122344': {'Colour': 'White',\n",
              "  'Company name': 'Classmate',\n",
              "  'Discount': '15%',\n",
              "  'Price': 200,\n",
              "  'Quantity': 15,\n",
              "  'product name': 'Drawing books'},\n",
              " '1122345': {'Colour': 'White',\n",
              "  'Company name': 'Classmate',\n",
              "  'Discount': '10%',\n",
              "  'Price': 60,\n",
              "  'Quantity': 50,\n",
              "  'product name': 'Notebooks'},\n",
              " '1122346': {'Colour': 'Multi-colour',\n",
              "  'Company name': 'Faber castell',\n",
              "  'Discount': '15%',\n",
              "  'Price': 120,\n",
              "  'Quantity': 40,\n",
              "  'product name': 'Acrylic colours'},\n",
              " '1122347': {'Colour': 'White',\n",
              "  'Company name': 'Doms',\n",
              "  'Discount': '5%',\n",
              "  'Price': 50,\n",
              "  'Quantity': 100,\n",
              "  'product name': 'A4 sheets'},\n",
              " '1122348': {'Colour': 'Multi-colour',\n",
              "  'Company name': 'Classmate',\n",
              "  'Discount': '5%',\n",
              "  'Price': 30,\n",
              "  'Quantity': 100,\n",
              "  'product name': 'Chart papers'},\n",
              " '1122349': {'Colour': 'Multi-colour',\n",
              "  'Company name': 'Classmate',\n",
              "  'Discount': '10%',\n",
              "  'Price': 40,\n",
              "  'Quantity': 100,\n",
              "  'product name': 'Handmade sheets'},\n",
              " '1122350': {'Colour': 'Multi-colour',\n",
              "  'Company name': 'Doms',\n",
              "  'Discount': '10%',\n",
              "  'Price': 40,\n",
              "  'Quantity': 80,\n",
              "  'product name': 'Rubber sheets'},\n",
              " '1122351': {'Colour': 'All-colours',\n",
              "  'Company name': 'Apsara',\n",
              "  'Discount': '5%',\n",
              "  'Price': 15,\n",
              "  'Quantity': 50,\n",
              "  'product name': 'Markers'},\n",
              " '1122352': {'Colour': 'White',\n",
              "  'Company name': 'Nataraj',\n",
              "  'Discount': '15%',\n",
              "  'Price': 200,\n",
              "  'Quantity': 50,\n",
              "  'product name': 'White board'},\n",
              " '1122353': {'Colour': 'White',\n",
              "  'Company name': 'Camlin',\n",
              "  'Discount': '5%',\n",
              "  'Price': 30,\n",
              "  'Quantity': 50,\n",
              "  'product name': 'Whitener'},\n",
              " '1122354': {'Colour': 'White',\n",
              "  'Company name': 'Doms',\n",
              "  'Discount': '4%',\n",
              "  'Price': 40,\n",
              "  'Quantity': 30,\n",
              "  'product name': 'Fevicol'},\n",
              " '1122355': {'Colour': 'Multi-colour',\n",
              "  'Company name': 'Camlin',\n",
              "  'Discount': '5%',\n",
              "  'Price': 40,\n",
              "  'Quantity': 20,\n",
              "  'product name': 'Scissors'},\n",
              " '1122356': {'Colour': 'Multi-colour',\n",
              "  'Company name': 'Camlin',\n",
              "  'Discount': '8%',\n",
              "  'Price': 30,\n",
              "  'Quantity': 40,\n",
              "  'product name': 'Paint brushes'},\n",
              " '1122357': {'Colour': 'Multi-colour',\n",
              "  'Company name': 'Doms',\n",
              "  'Discount': '10%',\n",
              "  'Price': 150,\n",
              "  'Quantity': 40,\n",
              "  'product name': 'Writing pad '},\n",
              " '1122358': {'Colour': 'All-colours',\n",
              "  'Company name': 'Camlin',\n",
              "  'Discount': '15%',\n",
              "  'Price': 130,\n",
              "  'Quantity': 40,\n",
              "  'product name': 'Geometry box'},\n",
              " '1122359': {'Colour': 'Transparent',\n",
              "  'Company name': 'Apsara',\n",
              "  'Discount': '3%',\n",
              "  'Price': 20,\n",
              "  'Quantity': 50,\n",
              "  'product name': 'Cello tape'},\n",
              " '1122360': {'Colour': 'Brown',\n",
              "  'Company name': 'Faber castell',\n",
              "  'Discount': '10%',\n",
              "  'Price': 50,\n",
              "  'Quantity': 30,\n",
              "  'product name': 'Brown coverroll'}}"
            ]
          },
          "metadata": {},
          "execution_count": 84
        }
      ]
    },
    {
      "cell_type": "markdown",
      "metadata": {
        "id": "2lxWuxbwiRCQ"
      },
      "source": [
        "Add product in inventory"
      ]
    },
    {
      "cell_type": "code",
      "metadata": {
        "colab": {
          "base_uri": "https://localhost:8080/"
        },
        "id": "PlMMWpY_hiCo",
        "outputId": "7b5a9ecb-d4d8-46d6-d4e4-d9bd46143e76"
      },
      "source": [
        "items"
      ],
      "execution_count": 17,
      "outputs": [
        {
          "output_type": "execute_result",
          "data": {
            "text/plain": [
              "{'1122331': {'Colour': 'Black',\n",
              "  'Company name': 'Doms',\n",
              "  'Discount': '1%',\n",
              "  'Price': 12,\n",
              "  'Quantity': 40,\n",
              "  'product name': 'Pencil'},\n",
              " '1122332': {'Colour': 'All colours',\n",
              "  'Company name': 'Doms',\n",
              "  'Discount': '3%',\n",
              "  'Price': 20,\n",
              "  'Quantity': 100,\n",
              "  'product name': 'Pen'},\n",
              " '1122333': {'Colour': 'Multi-colour',\n",
              "  'Company name': 'Doms',\n",
              "  'Discount': '2%',\n",
              "  'Price': 10,\n",
              "  'Quantity': 50,\n",
              "  'product name': 'Eraser'},\n",
              " '1122334': {'Colour': 'All colours',\n",
              "  'Company name': 'Nataraj',\n",
              "  'Discount': '2%',\n",
              "  'Price': 8,\n",
              "  'Quantity': 50,\n",
              "  'product name': 'Sharpener'},\n",
              " '1122335': {'Colour': 'Multi-colour',\n",
              "  'Company name': 'Faber castell',\n",
              "  'Discount': '5%',\n",
              "  'Price': 50,\n",
              "  'Quantity': 30,\n",
              "  'product name': 'Crayons'},\n",
              " '1122336': {'Colour': 'White',\n",
              "  'Company name': 'Nataraj',\n",
              "  'Discount': '2%',\n",
              "  'Price': 10,\n",
              "  'Quantity': 50,\n",
              "  'product name': 'Scale'},\n",
              " '1122337': {'Colour': 'White',\n",
              "  'Company name': 'Doms',\n",
              "  'Discount': '2%',\n",
              "  'Price': 10,\n",
              "  'Quantity': 50,\n",
              "  'product name': 'Compass'},\n",
              " '1122338': {'Colour': 'Multi-colour',\n",
              "  'Company name': 'Apsara',\n",
              "  'Discount': '2%',\n",
              "  'Price': 10,\n",
              "  'Quantity': 50,\n",
              "  'product name': 'Sketch pens'},\n",
              " '1122339': {'Colour': 'Multi-colour',\n",
              "  'Company name': 'Faber castell',\n",
              "  'Discount': '6%',\n",
              "  'Price': 20,\n",
              "  'Quantity': 50,\n",
              "  'product name': 'Highlighter'},\n",
              " '1122340': {'Colour': 'All-colours',\n",
              "  'Company name': 'Camlin',\n",
              "  'Discount': '10%',\n",
              "  'Price': 40,\n",
              "  'Quantity': 20,\n",
              "  'product name': 'Staplers'},\n",
              " '1122341': {'Colour': 'Multi-colour',\n",
              "  'Company name': 'Doms',\n",
              "  'Discount': '10%',\n",
              "  'Price': 50,\n",
              "  'Quantity': 35,\n",
              "  'product name': 'Pencil colours'},\n",
              " '1122342': {'Colour': 'Multi-colour',\n",
              "  'Company name': 'Faber castell',\n",
              "  'Discount': '15%',\n",
              "  'Price': 80,\n",
              "  'Quantity': 45,\n",
              "  'product name': 'Poster colours'},\n",
              " '1122343': {'Colour': 'Multi-colour',\n",
              "  'Company name': 'Doms',\n",
              "  'Discount': '2%',\n",
              "  'Price': 10,\n",
              "  'Quantity': 50,\n",
              "  'product name': 'Pencil box'},\n",
              " '1122344': {'Colour': 'White',\n",
              "  'Company name': 'Classmate',\n",
              "  'Discount': '15%',\n",
              "  'Price': 200,\n",
              "  'Quantity': 15,\n",
              "  'product name': 'Drawing books'},\n",
              " '1122345': {'Colour': 'White',\n",
              "  'Company name': 'Classmate',\n",
              "  'Discount': '10%',\n",
              "  'Price': 60,\n",
              "  'Quantity': 50,\n",
              "  'product name': 'Notebooks'},\n",
              " '1122346': {'Colour': 'Multi-colour',\n",
              "  'Company name': 'Faber castell',\n",
              "  'Discount': '15%',\n",
              "  'Price': 120,\n",
              "  'Quantity': 40,\n",
              "  'product name': 'Acrylic colours'},\n",
              " '1122347': {'Colour': 'White',\n",
              "  'Company name': 'Doms',\n",
              "  'Discount': '5%',\n",
              "  'Price': 50,\n",
              "  'Quantity': 100,\n",
              "  'product name': 'A4 sheets'},\n",
              " '1122348': {'Colour': 'Multi-colour',\n",
              "  'Company name': 'Classmate',\n",
              "  'Discount': '5%',\n",
              "  'Price': 30,\n",
              "  'Quantity': 100,\n",
              "  'product name': 'Chart papers'},\n",
              " '1122349': {'Colour': 'Multi-colour',\n",
              "  'Company name': 'Classmate',\n",
              "  'Discount': '10%',\n",
              "  'Price': 40,\n",
              "  'Quantity': 100,\n",
              "  'product name': 'Handmade sheets'},\n",
              " '1122350': {'Colour': 'Multi-colour',\n",
              "  'Company name': 'Doms',\n",
              "  'Discount': '10%',\n",
              "  'Price': 40,\n",
              "  'Quantity': 80,\n",
              "  'product name': 'Rubber sheets'},\n",
              " '1122351': {'Colour': 'All-colours',\n",
              "  'Company name': 'Apsara',\n",
              "  'Discount': '5%',\n",
              "  'Price': 15,\n",
              "  'Quantity': 50,\n",
              "  'product name': 'Markers'},\n",
              " '1122352': {'Colour': 'White',\n",
              "  'Company name': 'Nataraj',\n",
              "  'Discount': '15%',\n",
              "  'Price': 200,\n",
              "  'Quantity': 50,\n",
              "  'product name': 'White board'},\n",
              " '1122353': {'Colour': 'White',\n",
              "  'Company name': 'Camlin',\n",
              "  'Discount': '5%',\n",
              "  'Price': 30,\n",
              "  'Quantity': 50,\n",
              "  'product name': 'Whitener'},\n",
              " '1122354': {'Colour': 'White',\n",
              "  'Company name': 'Doms',\n",
              "  'Discount': '4%',\n",
              "  'Price': 40,\n",
              "  'Quantity': 30,\n",
              "  'product name': 'Fevicol'},\n",
              " '1122355': {'Colour': 'Multi-colour',\n",
              "  'Company name': 'Camlin',\n",
              "  'Discount': '5%',\n",
              "  'Price': 40,\n",
              "  'Quantity': 20,\n",
              "  'product name': 'Scissors'},\n",
              " '1122356': {'Colour': 'Multi-colour',\n",
              "  'Company name': 'Camlin',\n",
              "  'Discount': '8%',\n",
              "  'Price': 30,\n",
              "  'Quantity': 40,\n",
              "  'product name': 'Paint brushes'},\n",
              " '1122357': {'Colour': 'Multi-colour',\n",
              "  'Company name': 'Doms',\n",
              "  'Discount': '10%',\n",
              "  'Price': 150,\n",
              "  'Quantity': 40,\n",
              "  'product name': 'Writing pad '},\n",
              " '1122358': {'Colour': 'All-colours',\n",
              "  'Company name': 'Camlin',\n",
              "  'Discount': '15%',\n",
              "  'Price': 130,\n",
              "  'Quantity': 40,\n",
              "  'product name': 'Geometry box'},\n",
              " '1122359': {'Colour': 'Transparent',\n",
              "  'Company name': 'Apsara',\n",
              "  'Discount': '3%',\n",
              "  'Price': 20,\n",
              "  'Quantity': 50,\n",
              "  'product name': 'Cello tape'},\n",
              " '1122360': {'Colour': 'Brown',\n",
              "  'Company name': 'Faber castell',\n",
              "  'Discount': '10%',\n",
              "  'Price': 50,\n",
              "  'Quantity': 30,\n",
              "  'product name': 'Brown coverroll'}}"
            ]
          },
          "metadata": {},
          "execution_count": 17
        }
      ]
    },
    {
      "cell_type": "code",
      "metadata": {
        "colab": {
          "base_uri": "https://localhost:8080/"
        },
        "id": "OaebEz5PmaEQ",
        "outputId": "81001a62-5295-48a6-d0eb-f85efcae4ea0"
      },
      "source": [
        "Prod_id = str(input(\"enter the pid: \"))\n",
        "Product_Name = str(input(\"enter the product name: \"))\n",
        "Price = int(input(\"enter the price: \"))\n",
        "Quantity = int(input(\"enter the quantity: \"))\n",
        "Discount = str(input(\"enter the discount on  item: \"))\n",
        "Company_name = str(input(\"enter the company name of the particular item: \"))\n",
        "Colour = str(input(\"enter the colours available: \"))\n",
        "\n",
        "items[Prod_id] = {\"Item name\" : Product_Name, \"Price\" : Price, \"Quantity\" : Quantity, \"Discount\" : Discount, \"Company_name\" : Company_name, \"Colour\" : Colour}\n",
        "\n",
        "js = json.dumps(items)\n",
        "\n",
        "fd = open(\"items.json\",\"w\")\n",
        "fd.write(js)\n",
        "fd.close()\n",
        "\n"
      ],
      "execution_count": 22,
      "outputs": [
        {
          "name": "stdout",
          "output_type": "stream",
          "text": [
            "enter the pid: 1122363\n",
            "enter the product name: Hot glue gun\n",
            "enter the price: 150\n",
            "enter the quantity: 1\n",
            "enter the discount on  item: 5%\n",
            "enter the company name of the particular item: Cello\n",
            "enter the colours available: All colours\n"
          ]
        }
      ]
    },
    {
      "cell_type": "markdown",
      "metadata": {
        "id": "lt5GXLT0o03w"
      },
      "source": [
        "Read Inventory"
      ]
    },
    {
      "cell_type": "code",
      "metadata": {
        "id": "2kxOHjmxosdr"
      },
      "source": [
        "import json"
      ],
      "execution_count": 21,
      "outputs": []
    },
    {
      "cell_type": "code",
      "metadata": {
        "id": "QcC1_poQpBsl"
      },
      "source": [
        "fd = open(\"items.json\",\"r\")\n",
        "r = fd.read()\n",
        "fd.close()\n",
        "\n",
        "items = json.loads(r)"
      ],
      "execution_count": 23,
      "outputs": []
    },
    {
      "cell_type": "code",
      "metadata": {
        "colab": {
          "base_uri": "https://localhost:8080/"
        },
        "id": "yLVISCzzpJtl",
        "outputId": "998c2b12-e924-48a8-b2e7-eee75a0a0753"
      },
      "source": [
        "items"
      ],
      "execution_count": 24,
      "outputs": [
        {
          "output_type": "execute_result",
          "data": {
            "text/plain": [
              "{'1122331': {'Colour': 'Black',\n",
              "  'Company name': 'Doms',\n",
              "  'Discount': '1%',\n",
              "  'Price': 12,\n",
              "  'Quantity': 40,\n",
              "  'product name': 'Pencil'},\n",
              " '1122332': {'Colour': 'All colours',\n",
              "  'Company name': 'Doms',\n",
              "  'Discount': '3%',\n",
              "  'Price': 20,\n",
              "  'Quantity': 100,\n",
              "  'product name': 'Pen'},\n",
              " '1122333': {'Colour': 'Multi-colour',\n",
              "  'Company name': 'Doms',\n",
              "  'Discount': '2%',\n",
              "  'Price': 10,\n",
              "  'Quantity': 50,\n",
              "  'product name': 'Eraser'},\n",
              " '1122334': {'Colour': 'All colours',\n",
              "  'Company name': 'Nataraj',\n",
              "  'Discount': '2%',\n",
              "  'Price': 8,\n",
              "  'Quantity': 50,\n",
              "  'product name': 'Sharpener'},\n",
              " '1122335': {'Colour': 'Multi-colour',\n",
              "  'Company name': 'Faber castell',\n",
              "  'Discount': '5%',\n",
              "  'Price': 50,\n",
              "  'Quantity': 30,\n",
              "  'product name': 'Crayons'},\n",
              " '1122336': {'Colour': 'White',\n",
              "  'Company name': 'Nataraj',\n",
              "  'Discount': '2%',\n",
              "  'Price': 10,\n",
              "  'Quantity': 50,\n",
              "  'product name': 'Scale'},\n",
              " '1122337': {'Colour': 'White',\n",
              "  'Company name': 'Doms',\n",
              "  'Discount': '2%',\n",
              "  'Price': 10,\n",
              "  'Quantity': 50,\n",
              "  'product name': 'Compass'},\n",
              " '1122338': {'Colour': 'Multi-colour',\n",
              "  'Company name': 'Apsara',\n",
              "  'Discount': '2%',\n",
              "  'Price': 10,\n",
              "  'Quantity': 50,\n",
              "  'product name': 'Sketch pens'},\n",
              " '1122339': {'Colour': 'Multi-colour',\n",
              "  'Company name': 'Faber castell',\n",
              "  'Discount': '6%',\n",
              "  'Price': 20,\n",
              "  'Quantity': 50,\n",
              "  'product name': 'Highlighter'},\n",
              " '1122340': {'Colour': 'All-colours',\n",
              "  'Company name': 'Camlin',\n",
              "  'Discount': '10%',\n",
              "  'Price': 40,\n",
              "  'Quantity': 20,\n",
              "  'product name': 'Staplers'},\n",
              " '1122341': {'Colour': 'Multi-colour',\n",
              "  'Company name': 'Doms',\n",
              "  'Discount': '10%',\n",
              "  'Price': 50,\n",
              "  'Quantity': 35,\n",
              "  'product name': 'Pencil colours'},\n",
              " '1122342': {'Colour': 'Multi-colour',\n",
              "  'Company name': 'Faber castell',\n",
              "  'Discount': '15%',\n",
              "  'Price': 80,\n",
              "  'Quantity': 45,\n",
              "  'product name': 'Poster colours'},\n",
              " '1122343': {'Colour': 'Multi-colour',\n",
              "  'Company name': 'Doms',\n",
              "  'Discount': '2%',\n",
              "  'Price': 10,\n",
              "  'Quantity': 50,\n",
              "  'product name': 'Pencil box'},\n",
              " '1122344': {'Colour': 'White',\n",
              "  'Company name': 'Classmate',\n",
              "  'Discount': '15%',\n",
              "  'Price': 200,\n",
              "  'Quantity': 15,\n",
              "  'product name': 'Drawing books'},\n",
              " '1122345': {'Colour': 'White',\n",
              "  'Company name': 'Classmate',\n",
              "  'Discount': '10%',\n",
              "  'Price': 60,\n",
              "  'Quantity': 50,\n",
              "  'product name': 'Notebooks'},\n",
              " '1122346': {'Colour': 'Multi-colour',\n",
              "  'Company name': 'Faber castell',\n",
              "  'Discount': '15%',\n",
              "  'Price': 120,\n",
              "  'Quantity': 40,\n",
              "  'product name': 'Acrylic colours'},\n",
              " '1122347': {'Colour': 'White',\n",
              "  'Company name': 'Doms',\n",
              "  'Discount': '5%',\n",
              "  'Price': 50,\n",
              "  'Quantity': 100,\n",
              "  'product name': 'A4 sheets'},\n",
              " '1122348': {'Colour': 'Multi-colour',\n",
              "  'Company name': 'Classmate',\n",
              "  'Discount': '5%',\n",
              "  'Price': 30,\n",
              "  'Quantity': 100,\n",
              "  'product name': 'Chart papers'},\n",
              " '1122349': {'Colour': 'Multi-colour',\n",
              "  'Company name': 'Classmate',\n",
              "  'Discount': '10%',\n",
              "  'Price': 40,\n",
              "  'Quantity': 100,\n",
              "  'product name': 'Handmade sheets'},\n",
              " '1122350': {'Colour': 'Multi-colour',\n",
              "  'Company name': 'Doms',\n",
              "  'Discount': '10%',\n",
              "  'Price': 40,\n",
              "  'Quantity': 80,\n",
              "  'product name': 'Rubber sheets'},\n",
              " '1122351': {'Colour': 'All-colours',\n",
              "  'Company name': 'Apsara',\n",
              "  'Discount': '5%',\n",
              "  'Price': 15,\n",
              "  'Quantity': 50,\n",
              "  'product name': 'Markers'},\n",
              " '1122352': {'Colour': 'White',\n",
              "  'Company name': 'Nataraj',\n",
              "  'Discount': '15%',\n",
              "  'Price': 200,\n",
              "  'Quantity': 50,\n",
              "  'product name': 'White board'},\n",
              " '1122353': {'Colour': 'White',\n",
              "  'Company name': 'Camlin',\n",
              "  'Discount': '5%',\n",
              "  'Price': 30,\n",
              "  'Quantity': 50,\n",
              "  'product name': 'Whitener'},\n",
              " '1122354': {'Colour': 'White',\n",
              "  'Company name': 'Doms',\n",
              "  'Discount': '4%',\n",
              "  'Price': 40,\n",
              "  'Quantity': 30,\n",
              "  'product name': 'Fevicol'},\n",
              " '1122355': {'Colour': 'Multi-colour',\n",
              "  'Company name': 'Camlin',\n",
              "  'Discount': '5%',\n",
              "  'Price': 40,\n",
              "  'Quantity': 20,\n",
              "  'product name': 'Scissors'},\n",
              " '1122356': {'Colour': 'Multi-colour',\n",
              "  'Company name': 'Camlin',\n",
              "  'Discount': '8%',\n",
              "  'Price': 30,\n",
              "  'Quantity': 40,\n",
              "  'product name': 'Paint brushes'},\n",
              " '1122357': {'Colour': 'Multi-colour',\n",
              "  'Company name': 'Doms',\n",
              "  'Discount': '10%',\n",
              "  'Price': 150,\n",
              "  'Quantity': 40,\n",
              "  'product name': 'Writing pad '},\n",
              " '1122358': {'Colour': 'All-colours',\n",
              "  'Company name': 'Camlin',\n",
              "  'Discount': '15%',\n",
              "  'Price': 130,\n",
              "  'Quantity': 40,\n",
              "  'product name': 'Geometry box'},\n",
              " '1122359': {'Colour': 'Transparent',\n",
              "  'Company name': 'Apsara',\n",
              "  'Discount': '3%',\n",
              "  'Price': 20,\n",
              "  'Quantity': 50,\n",
              "  'product name': 'Cello tape'},\n",
              " '1122360': {'Colour': 'Brown',\n",
              "  'Company name': 'Faber castell',\n",
              "  'Discount': '10%',\n",
              "  'Price': 50,\n",
              "  'Quantity': 30,\n",
              "  'product name': 'Brown coverroll'},\n",
              " '1122361': {'Colour': 'All  colours',\n",
              "  'Company_name': 'Doms',\n",
              "  'Discount': '5%',\n",
              "  'Item name': 'Glitter pens',\n",
              "  'Price': 100,\n",
              "  'Quantity': 3},\n",
              " '1122362': {'Colour': 'Multi-colour',\n",
              "  'Company_name': 'Classmate',\n",
              "  'Discount': '2%',\n",
              "  'Item name': 'Stickers',\n",
              "  'Price': 30,\n",
              "  'Quantity': 5},\n",
              " '1122363': {'Colour': 'All colours',\n",
              "  'Company_name': 'Cello',\n",
              "  'Discount': '5%',\n",
              "  'Item name': 'Hot glue gun',\n",
              "  'Price': 150,\n",
              "  'Quantity': 1}}"
            ]
          },
          "metadata": {},
          "execution_count": 24
        }
      ]
    },
    {
      "cell_type": "markdown",
      "metadata": {
        "id": "kTy4X4O5pQbX"
      },
      "source": [
        "Purchase"
      ]
    },
    {
      "cell_type": "code",
      "metadata": {
        "colab": {
          "base_uri": "https://localhost:8080/"
        },
        "id": "Szh2gFStp7Sj",
        "outputId": "cf53d2a2-842a-4279-b70f-807461af2b01"
      },
      "source": [
        "ui_prod = str(input(\"enter the pid: \"))\n",
        "ui_quan = int(input(\"enter the quantity: \"))\n",
        "\n",
        "#USER DETAILS\n",
        "user_name=str(input(\"enter the Buyer's name: \"))\n",
        "ui_mobile_no=int(input(\"enter the mobile number: \"))\n",
        "ui_address = str(input(\"enter the address of buyer: \"))\n",
        "print(\"*************BILLING RECEIPT**************\")\n",
        "print(\"product: \",items[ui_prod]['product name'])\n",
        "print(\"price: \",items[ui_prod]['Price'])\n",
        "print(\"Billing Amount: \",items[ui_prod]['Price'] * ui_quan)\n",
        "print(\"Customer Name: \",user_name)\n",
        "print(\"User Mobile No: \",ui_mobile_no)\n",
        "print(\"Shipping address: \",ui_address)\n",
        "print(\"***************************************\")\n",
        "items[ui_prod]['Quantity'] = items[ui_prod]['Quantity'] - ui_quan\n",
        "\n"
      ],
      "execution_count": 33,
      "outputs": [
        {
          "output_type": "stream",
          "name": "stdout",
          "text": [
            "enter the pid: 1122350\n",
            "enter the quantity: 3\n",
            "enter the Buyer's name: PQR\n",
            "enter the mobile number: 77882211\n",
            "enter the address of buyer: ABS STREET\n",
            "*************BILLING RECEIPT**************\n",
            "product:  Rubber sheets\n",
            "price:  40\n",
            "Billing Amount:  120\n",
            "Customer Name:  PQR\n",
            "User Mobile No:  77882211\n",
            "Shipping address:  ABS STREET\n",
            "***************************************\n"
          ]
        }
      ]
    },
    {
      "cell_type": "markdown",
      "metadata": {
        "id": "57NuObStuWCW"
      },
      "source": [
        "Update Inventory"
      ]
    },
    {
      "cell_type": "code",
      "metadata": {
        "id": "C_oQjos7q7nV"
      },
      "source": [
        "js = json.dumps(items)\n",
        "\n",
        "fd = open(\"items.json\",\"w\")\n",
        "fd.write(js)\n",
        "fd.close()"
      ],
      "execution_count": 36,
      "outputs": []
    },
    {
      "cell_type": "markdown",
      "metadata": {
        "id": "dJdmOQxIungl"
      },
      "source": [
        "Reading the data"
      ]
    },
    {
      "cell_type": "code",
      "metadata": {
        "id": "usHVyEnGuiWq"
      },
      "source": [
        "fd = open(\"items.json\",\"r\")\n",
        "r = fd.read()\n",
        "fd.close()"
      ],
      "execution_count": 37,
      "outputs": []
    },
    {
      "cell_type": "code",
      "metadata": {
        "colab": {
          "base_uri": "https://localhost:8080/",
          "height": 835
        },
        "id": "tXJOqDm_u-KA",
        "outputId": "82ede165-f884-4e20-ce42-54ae61a74079"
      },
      "source": [
        "r"
      ],
      "execution_count": 38,
      "outputs": [
        {
          "output_type": "execute_result",
          "data": {
            "application/vnd.google.colaboratory.intrinsic+json": {
              "type": "string"
            },
            "text/plain": [
              "'{\"1122331\": {\"product name\": \"Pencil\", \"Price\": 12, \"Quantity\": 40, \"Discount\": \"1%\", \"Company name\": \"Doms\", \"Colour\": \"Black\"}, \"1122332\": {\"product name\": \"Pen\", \"Price\": 20, \"Quantity\": 100, \"Discount\": \"3%\", \"Company name\": \"Doms\", \"Colour\": \"All colours\"}, \"1122333\": {\"product name\": \"Eraser\", \"Price\": 10, \"Quantity\": 50, \"Discount\": \"2%\", \"Company name\": \"Doms\", \"Colour\": \"Multi-colour\"}, \"1122334\": {\"product name\": \"Sharpener\", \"Price\": 8, \"Quantity\": 50, \"Discount\": \"2%\", \"Company name\": \"Nataraj\", \"Colour\": \"All colours\"}, \"1122335\": {\"product name\": \"Crayons\", \"Price\": 50, \"Quantity\": 28, \"Discount\": \"5%\", \"Company name\": \"Faber castell\", \"Colour\": \"Multi-colour\"}, \"1122336\": {\"product name\": \"Scale\", \"Price\": 10, \"Quantity\": 50, \"Discount\": \"2%\", \"Company name\": \"Nataraj\", \"Colour\": \"White\"}, \"1122337\": {\"product name\": \"Compass\", \"Price\": 10, \"Quantity\": 50, \"Discount\": \"2%\", \"Company name\": \"Doms\", \"Colour\": \"White\"}, \"1122338\": {\"product name\": \"Sketch pens\", \"Price\": 10, \"Quantity\": 50, \"Discount\": \"2%\", \"Company name\": \"Apsara\", \"Colour\": \"Multi-colour\"}, \"1122339\": {\"product name\": \"Highlighter\", \"Price\": 20, \"Quantity\": 50, \"Discount\": \"6%\", \"Company name\": \"Faber castell\", \"Colour\": \"Multi-colour\"}, \"1122340\": {\"product name\": \"Staplers\", \"Price\": 40, \"Quantity\": 20, \"Discount\": \"10%\", \"Company name\": \"Camlin\", \"Colour\": \"All-colours\"}, \"1122341\": {\"product name\": \"Pencil colours\", \"Price\": 50, \"Quantity\": 35, \"Discount\": \"10%\", \"Company name\": \"Doms\", \"Colour\": \"Multi-colour\"}, \"1122342\": {\"product name\": \"Poster colours\", \"Price\": 80, \"Quantity\": 45, \"Discount\": \"15%\", \"Company name\": \"Faber castell\", \"Colour\": \"Multi-colour\"}, \"1122343\": {\"product name\": \"Pencil box\", \"Price\": 10, \"Quantity\": 50, \"Discount\": \"2%\", \"Company name\": \"Doms\", \"Colour\": \"Multi-colour\"}, \"1122344\": {\"product name\": \"Drawing books\", \"Price\": 200, \"Quantity\": 15, \"Discount\": \"15%\", \"Company name\": \"Classmate\", \"Colour\": \"White\"}, \"1122345\": {\"product name\": \"Notebooks\", \"Price\": 60, \"Quantity\": 45, \"Discount\": \"10%\", \"Company name\": \"Classmate\", \"Colour\": \"White\"}, \"1122346\": {\"product name\": \"Acrylic colours\", \"Price\": 120, \"Quantity\": 40, \"Discount\": \"15%\", \"Company name\": \"Faber castell\", \"Colour\": \"Multi-colour\"}, \"1122347\": {\"product name\": \"A4 sheets\", \"Price\": 50, \"Quantity\": 100, \"Discount\": \"5%\", \"Company name\": \"Doms\", \"Colour\": \"White\"}, \"1122348\": {\"product name\": \"Chart papers\", \"Price\": 30, \"Quantity\": 100, \"Discount\": \"5%\", \"Company name\": \"Classmate\", \"Colour\": \"Multi-colour\"}, \"1122349\": {\"product name\": \"Handmade sheets\", \"Price\": 40, \"Quantity\": 100, \"Discount\": \"10%\", \"Company name\": \"Classmate\", \"Colour\": \"Multi-colour\"}, \"1122350\": {\"product name\": \"Rubber sheets\", \"Price\": 40, \"Quantity\": 77, \"Discount\": \"10%\", \"Company name\": \"Doms\", \"Colour\": \"Multi-colour\"}, \"1122351\": {\"product name\": \"Markers\", \"Price\": 15, \"Quantity\": 50, \"Discount\": \"5%\", \"Company name\": \"Apsara\", \"Colour\": \"All-colours\"}, \"1122352\": {\"product name\": \"White board\", \"Price\": 200, \"Quantity\": 50, \"Discount\": \"15%\", \"Company name\": \"Nataraj\", \"Colour\": \"White\"}, \"1122353\": {\"product name\": \"Whitener\", \"Price\": 30, \"Quantity\": 50, \"Discount\": \"5%\", \"Company name\": \"Camlin\", \"Colour\": \"White\"}, \"1122354\": {\"product name\": \"Fevicol\", \"Price\": 40, \"Quantity\": 30, \"Discount\": \"4%\", \"Company name\": \"Doms\", \"Colour\": \"White\"}, \"1122355\": {\"product name\": \"Scissors\", \"Price\": 40, \"Quantity\": 20, \"Discount\": \"5%\", \"Company name\": \"Camlin\", \"Colour\": \"Multi-colour\"}, \"1122356\": {\"product name\": \"Paint brushes\", \"Price\": 30, \"Quantity\": 40, \"Discount\": \"8%\", \"Company name\": \"Camlin\", \"Colour\": \"Multi-colour\"}, \"1122357\": {\"product name\": \"Writing pad \", \"Price\": 150, \"Quantity\": 40, \"Discount\": \"10%\", \"Company name\": \"Doms\", \"Colour\": \"Multi-colour\"}, \"1122358\": {\"product name\": \"Geometry box\", \"Price\": 130, \"Quantity\": 40, \"Discount\": \"15%\", \"Company name\": \"Camlin\", \"Colour\": \"All-colours\"}, \"1122359\": {\"product name\": \"Cello tape\", \"Price\": 20, \"Quantity\": 50, \"Discount\": \"3%\", \"Company name\": \"Apsara\", \"Colour\": \"Transparent\"}, \"1122360\": {\"product name\": \"Brown coverroll\", \"Price\": 50, \"Quantity\": 30, \"Discount\": \"10%\", \"Company name\": \"Faber castell\", \"Colour\": \"Brown\"}, \"1122361\": {\"Item name\": \"Glitter pens\", \"Price\": 100, \"Quantity\": 3, \"Discount\": \"5%\", \"Company_name\": \"Doms\", \"Colour\": \"All  colours\"}, \"1122362\": {\"Item name\": \"Stickers\", \"Price\": 30, \"Quantity\": 5, \"Discount\": \"2%\", \"Company_name\": \"Classmate\", \"Colour\": \"Multi-colour\"}, \"1122363\": {\"Item name\": \"Hot glue gun\", \"Price\": 150, \"Quantity\": 1, \"Discount\": \"5%\", \"Company_name\": \"Cello\", \"Colour\": \"All colours\"}}'"
            ]
          },
          "metadata": {},
          "execution_count": 38
        }
      ]
    },
    {
      "cell_type": "markdown",
      "metadata": {
        "id": "wQNutHOzvaaS"
      },
      "source": [
        "Sale products"
      ]
    },
    {
      "cell_type": "code",
      "metadata": {
        "id": "a3YHNUuuvv1w"
      },
      "source": [
        "sales = {1 : {'prod' : ui_prod, 'qn' : ui_quan, 'amount' : items[ui_prod]['Price'] * ui_quan, 'user name' : user_name, 'user number' : ui_mobile_no, 'user address' : ui_address},\n",
        "         2 : {'prod' : ui_prod, 'qn' : ui_quan, 'amount' : items[ui_prod]['Price'] * ui_quan, 'user name' : user_name, 'user number' : ui_mobile_no, 'user address' : ui_address},\n",
        "         3 : {'prod' : ui_prod, 'qn' : ui_quan, 'amount' : items[ui_prod]['Price'] * ui_quan, 'user name' : user_name, 'user number' : ui_mobile_no, 'user address' : ui_address}}\n",
        "         "
      ],
      "execution_count": 42,
      "outputs": []
    },
    {
      "cell_type": "code",
      "metadata": {
        "colab": {
          "base_uri": "https://localhost:8080/",
          "height": 90
        },
        "id": "mmHmXDupwFwO",
        "outputId": "c341b734-5267-4860-c22f-08e7be05e45a"
      },
      "source": [
        "json.dumps(sales)"
      ],
      "execution_count": 43,
      "outputs": [
        {
          "output_type": "execute_result",
          "data": {
            "application/vnd.google.colaboratory.intrinsic+json": {
              "type": "string"
            },
            "text/plain": [
              "'{\"1\": {\"prod\": \"1122350\", \"qn\": 3, \"amount\": 120, \"user name\": \"PQR\", \"user number\": 77882211, \"user address\": \"ABS STREET\"}, \"2\": {\"prod\": \"1122350\", \"qn\": 3, \"amount\": 120, \"user name\": \"PQR\", \"user number\": 77882211, \"user address\": \"ABS STREET\"}, \"3\": {\"prod\": \"1122350\", \"qn\": 3, \"amount\": 120, \"user name\": \"PQR\", \"user number\": 77882211, \"user address\": \"ABS STREET\"}}'"
            ]
          },
          "metadata": {},
          "execution_count": 43
        }
      ]
    },
    {
      "cell_type": "code",
      "metadata": {
        "id": "bPYYdempwfnw"
      },
      "source": [
        "fd = open(\"items.json\",\"r\")\n",
        "r = fd.read()\n",
        "fd.close()"
      ],
      "execution_count": 44,
      "outputs": []
    },
    {
      "cell_type": "code",
      "metadata": {
        "id": "tJXTn7FXxMaM"
      },
      "source": [
        "sales[(len(sales) + 1)] = {'prod' : ui_prod, 'qn' : ui_quan, 'amount' : items[ui_prod]['Price'] * ui_quan}"
      ],
      "execution_count": 45,
      "outputs": []
    },
    {
      "cell_type": "code",
      "metadata": {
        "colab": {
          "base_uri": "https://localhost:8080/"
        },
        "id": "EaY9JRzdxgF2",
        "outputId": "4a831d4f-6490-4495-a0a9-917cdc3b7350"
      },
      "source": [
        "sales"
      ],
      "execution_count": 46,
      "outputs": [
        {
          "output_type": "execute_result",
          "data": {
            "text/plain": [
              "{1: {'amount': 120,\n",
              "  'prod': '1122350',\n",
              "  'qn': 3,\n",
              "  'user address': 'ABS STREET',\n",
              "  'user name': 'PQR',\n",
              "  'user number': 77882211},\n",
              " 2: {'amount': 120,\n",
              "  'prod': '1122350',\n",
              "  'qn': 3,\n",
              "  'user address': 'ABS STREET',\n",
              "  'user name': 'PQR',\n",
              "  'user number': 77882211},\n",
              " 3: {'amount': 120,\n",
              "  'prod': '1122350',\n",
              "  'qn': 3,\n",
              "  'user address': 'ABS STREET',\n",
              "  'user name': 'PQR',\n",
              "  'user number': 77882211},\n",
              " 4: {'amount': 120, 'prod': '1122350', 'qn': 3}}"
            ]
          },
          "metadata": {},
          "execution_count": 46
        }
      ]
    },
    {
      "cell_type": "code",
      "metadata": {
        "id": "HWMgkGqexhYM"
      },
      "source": [
        "sale = json.dumps(sales)"
      ],
      "execution_count": 47,
      "outputs": []
    },
    {
      "cell_type": "code",
      "metadata": {
        "id": "IN6YX7YDxqZG"
      },
      "source": [
        "fd = open(\"sales.json\",'w')\n",
        "r = fd.write(sale)\n",
        "fd.close()"
      ],
      "execution_count": 48,
      "outputs": []
    },
    {
      "cell_type": "code",
      "metadata": {
        "id": "y_NtHA-7-XJ3"
      },
      "source": [
        ""
      ],
      "execution_count": null,
      "outputs": []
    }
  ]
}